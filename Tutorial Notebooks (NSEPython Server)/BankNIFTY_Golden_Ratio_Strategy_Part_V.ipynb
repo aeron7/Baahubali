{
  "nbformat": 4,
  "nbformat_minor": 0,
  "metadata": {
    "colab": {
      "provenance": [],
      "authorship_tag": "ABX9TyOojpe7bApQFkj3g+OCSOaW",
      "include_colab_link": true
    },
    "kernelspec": {
      "name": "python3",
      "display_name": "Python 3"
    },
    "language_info": {
      "name": "python"
    }
  },
  "cells": [
    {
      "cell_type": "markdown",
      "metadata": {
        "id": "view-in-github",
        "colab_type": "text"
      },
      "source": [
        "<a href=\"https://colab.research.google.com/github/aeron7/Baahubali/blob/master/Tutorial%20Notebooks%20(NSEPython%20Server)/BankNIFTY_Golden_Ratio_Strategy_Part_V.ipynb\" target=\"_parent\"><img src=\"https://colab.research.google.com/assets/colab-badge.svg\" alt=\"Open In Colab\"/></a>"
      ]
    },
    {
      "cell_type": "code",
      "execution_count": 1,
      "metadata": {
        "colab": {
          "base_uri": "https://localhost:8080/"
        },
        "id": "eJ9GZtPDjWS5",
        "outputId": "1701154a-4335-4bc9-e300-b04a3a8bc63d"
      },
      "outputs": [
        {
          "output_type": "stream",
          "name": "stdout",
          "text": [
            "Collecting nsepythonserver\n",
            "  Downloading nsepythonserver-2.3-py3-none-any.whl (24 kB)\n",
            "Requirement already satisfied: requests in /usr/local/lib/python3.10/dist-packages (from nsepythonserver) (2.31.0)\n",
            "Requirement already satisfied: pandas in /usr/local/lib/python3.10/dist-packages (from nsepythonserver) (1.5.3)\n",
            "Requirement already satisfied: scipy in /usr/local/lib/python3.10/dist-packages (from nsepythonserver) (1.10.1)\n",
            "Requirement already satisfied: python-dateutil>=2.8.1 in /usr/local/lib/python3.10/dist-packages (from pandas->nsepythonserver) (2.8.2)\n",
            "Requirement already satisfied: pytz>=2020.1 in /usr/local/lib/python3.10/dist-packages (from pandas->nsepythonserver) (2023.3.post1)\n",
            "Requirement already satisfied: numpy>=1.21.0 in /usr/local/lib/python3.10/dist-packages (from pandas->nsepythonserver) (1.23.5)\n",
            "Requirement already satisfied: charset-normalizer<4,>=2 in /usr/local/lib/python3.10/dist-packages (from requests->nsepythonserver) (3.2.0)\n",
            "Requirement already satisfied: idna<4,>=2.5 in /usr/local/lib/python3.10/dist-packages (from requests->nsepythonserver) (3.4)\n",
            "Requirement already satisfied: urllib3<3,>=1.21.1 in /usr/local/lib/python3.10/dist-packages (from requests->nsepythonserver) (2.0.4)\n",
            "Requirement already satisfied: certifi>=2017.4.17 in /usr/local/lib/python3.10/dist-packages (from requests->nsepythonserver) (2023.7.22)\n",
            "Requirement already satisfied: six>=1.5 in /usr/local/lib/python3.10/dist-packages (from python-dateutil>=2.8.1->pandas->nsepythonserver) (1.16.0)\n",
            "Installing collected packages: nsepythonserver\n",
            "Successfully installed nsepythonserver-2.3\n"
          ]
        }
      ],
      "source": [
        "!pip install nsepythonserver"
      ]
    },
    {
      "cell_type": "code",
      "source": [
        "#https://nbviewer.org/github/aeron7/BankNIFTY-Golden-Ratio-Strategy/blob/master/Tutorial%20Notebooks/BankNIFTY%20Golden%20Ratio%20Strategy%20-%20Part%20V.ipynb"
      ],
      "metadata": {
        "id": "VCsLyoxTjiBv"
      },
      "execution_count": 2,
      "outputs": []
    },
    {
      "cell_type": "code",
      "source": [
        "from nsepythonserver import *\n",
        "running_status()"
      ],
      "metadata": {
        "colab": {
          "base_uri": "https://localhost:8080/"
        },
        "id": "GLqdpn8tji9u",
        "outputId": "dd51c2d6-f533-441a-e668-3021b4686b23"
      },
      "execution_count": 5,
      "outputs": [
        {
          "output_type": "execute_result",
          "data": {
            "text/plain": [
              "False"
            ]
          },
          "metadata": {},
          "execution_count": 5
        }
      ]
    },
    {
      "cell_type": "code",
      "source": [
        "#Getting All the Necessary Variables\n",
        "\n",
        "historical_data = nsefetch('https://www.nseindia.com/api/historical/fo/derivatives?&expiryDate=28-SEP-2023&instrumentType=FUTIDX&symbol=BANKNIFTY')\n",
        "historical_data = pd.DataFrame(historical_data['data'])\n",
        "previous_day_high = historical_data['FH_TRADE_HIGH_PRICE'].iloc[0]\n",
        "previous_day_low = historical_data['FH_TRADE_LOW_PRICE'].iloc[0]\n",
        "\n",
        "banknifty_info=nsefetch(\"https://www.nseindia.com/api/equity-stockIndices?index=NIFTY%20BANK\")\n",
        "range_high = banknifty_info['data'][0]['dayHigh']\n",
        "range_low = banknifty_info['data'][0]['dayLow']\n",
        "opening_range = range_high-range_low\n",
        "\n",
        "golden_number = (float(previous_day_high)-float(previous_day_low)+opening_range)*.618\n",
        "\n",
        "previous_day_close = banknifty_info['data'][0]['previousClose']\n",
        "buy_above = int(previous_day_close+golden_number)\n",
        "sell_below = int(previous_day_close-golden_number)\n",
        "\n",
        "print(\"Buy BankNIFTY Above: \"+str(buy_above)+\".\")\n",
        "print(\"Sell BankNIFTY Below: \"+str(sell_below)+\".\")\n",
        "\n",
        "#Entering the Trade\n",
        "\n",
        "while True:\n",
        "    bn_ltp = nse_quote_ltp(\"BANKNIFTY\")\n",
        "    print(\"Current Value of BankNIFTY: \" + str(bn_ltp))\n",
        "\n",
        "    who_triggered = \"NONE\"\n",
        "\n",
        "    #Amit's Test\n",
        "    bn_ltp = 23031\n",
        "\n",
        "    if(bn_ltp>buy_above):\n",
        "        print(\"Buy Order executed at: \" +str(bn_ltp)+\". Entry Time is \"+ str(run_time)+\".\")\n",
        "        who_triggered = \"BUY\"\n",
        "        stop_loss = bn_ltp*(.995)\n",
        "        target = bn_ltp*(1.02)\n",
        "\n",
        "    if(bn_ltp<sell_below):\n",
        "        print(\"Sell Order executed at: \" +str(bn_ltp)+\". Entry Time is \"+ str(run_time)+\".\")\n",
        "        who_triggered = \"Sell\"\n",
        "        stop_loss = bn_ltp*(1.005)\n",
        "        target = bn_ltp*(.98)\n",
        "\n",
        "    if(who_triggered != \"NONE\"):\n",
        "        entry_price = run_time\n",
        "        entry_price = bn_ltp\n",
        "        print(\"Stop Loss is: \" + str(stop_loss)+\".\")\n",
        "        print(\"Target is: \" + str(target)+\".\")\n",
        "        break\n",
        "\n",
        "    time.sleep(10)\n",
        "\n",
        "#Managing the Trade\n",
        "\n",
        "while True:\n",
        "    bn_ltp = nse_quote_ltp(\"BANKNIFTY\")\n",
        "    print(\"Current Value of BankNIFTY: \" + str(bn_ltp))\n",
        "\n",
        "    exit_time = run_time\n",
        "    exit_price = bn_ltp\n",
        "\n",
        "    if(who_triggered == \"BUY\"):\n",
        "\n",
        "        if(bn_ltp>target):\n",
        "            print(\"Target hit at: \"+ str(bn_ltp)+\". Exit Time is \"+ str(run_time)+\".\")\n",
        "            print(\"Net Profit: \"+str(abs(entry_price-exit_price))+\" points.\")\n",
        "            break\n",
        "\n",
        "        if(bn_ltp<stop_loss):\n",
        "            print(\"Stop Loss hit at: \"+ str(bn_ltp)+\". Exit Time is \"+ str(run_time)+\".\")\n",
        "            print(\"Net Loss: \"+str(abs(entry_price-exit_price))+\" points.\")\n",
        "            break\n",
        "\n",
        "    if(who_triggered == \"SELL\"):\n",
        "\n",
        "        if(bn_ltp<target):\n",
        "            print(\"Target hit at: \"+ str(bn_ltp)+\". Exit Time is \"+ str(run_time)+\".\")\n",
        "            print(\"Net Profit: \"+str(abs(entry_price-exit_price))+\" points.\")\n",
        "            break\n",
        "\n",
        "        if(bn_ltp>stop_loss):\n",
        "            print(\"Stop Loss hit at: \"+ str(bn_ltp)+\". Exit Time is \"+ str(run_time)+\".\")\n",
        "            print(\"Net Loss: \"+str(abs(entry_price-exit_price))+\" points.\")\n",
        "            break\n",
        ""
      ],
      "metadata": {
        "colab": {
          "base_uri": "https://localhost:8080/",
          "height": 911
        },
        "id": "hB-LBJR5jlcJ",
        "outputId": "5d7ad34d-ead3-44d9-abc0-c5b1e7924dfb"
      },
      "execution_count": 7,
      "outputs": [
        {
          "output_type": "stream",
          "name": "stdout",
          "text": [
            "Buy BankNIFTY Above: 45111.\n",
            "Sell BankNIFTY Below: 43707.\n",
            "Current Value of BankNIFTY: 44878.35\n",
            "Sell Order executed at: 23031. Entry Time is 2023-09-07 21:31:35.154198.\n",
            "Stop Loss is: 23146.155.\n",
            "Target is: 22570.38.\n",
            "Current Value of BankNIFTY: 44878.35\n",
            "Current Value of BankNIFTY: 44878.35\n",
            "Current Value of BankNIFTY: 44878.35\n",
            "Current Value of BankNIFTY: 44878.35\n",
            "Current Value of BankNIFTY: 44878.35\n",
            "Current Value of BankNIFTY: 44878.35\n",
            "Current Value of BankNIFTY: 44878.35\n",
            "Current Value of BankNIFTY: 44878.35\n",
            "Current Value of BankNIFTY: 44878.35\n",
            "Current Value of BankNIFTY: 44878.35\n",
            "Current Value of BankNIFTY: 44878.35\n",
            "Current Value of BankNIFTY: 44878.35\n",
            "Current Value of BankNIFTY: 44878.35\n",
            "Current Value of BankNIFTY: 44878.35\n",
            "Current Value of BankNIFTY: 44878.35\n",
            "Current Value of BankNIFTY: 44878.35\n",
            "Current Value of BankNIFTY: 44878.35\n",
            "Current Value of BankNIFTY: 44878.35\n",
            "Current Value of BankNIFTY: 44878.35\n",
            "Current Value of BankNIFTY: 44878.35\n",
            "Current Value of BankNIFTY: 44878.35\n",
            "Current Value of BankNIFTY: 44878.35\n",
            "Current Value of BankNIFTY: 44878.35\n",
            "Current Value of BankNIFTY: 44878.35\n"
          ]
        },
        {
          "output_type": "error",
          "ename": "KeyboardInterrupt",
          "evalue": "ignored",
          "traceback": [
            "\u001b[0;31m---------------------------------------------------------------------------\u001b[0m",
            "\u001b[0;31mKeyboardInterrupt\u001b[0m                         Traceback (most recent call last)",
            "\u001b[0;32m<ipython-input-7-cb25774f2867>\u001b[0m in \u001b[0;36m<cell line: 56>\u001b[0;34m()\u001b[0m\n\u001b[1;32m     55\u001b[0m \u001b[0;34m\u001b[0m\u001b[0m\n\u001b[1;32m     56\u001b[0m \u001b[0;32mwhile\u001b[0m \u001b[0;32mTrue\u001b[0m\u001b[0;34m:\u001b[0m\u001b[0;34m\u001b[0m\u001b[0;34m\u001b[0m\u001b[0m\n\u001b[0;32m---> 57\u001b[0;31m     \u001b[0mbn_ltp\u001b[0m \u001b[0;34m=\u001b[0m \u001b[0mnse_quote_ltp\u001b[0m\u001b[0;34m(\u001b[0m\u001b[0;34m\"BANKNIFTY\"\u001b[0m\u001b[0;34m)\u001b[0m\u001b[0;34m\u001b[0m\u001b[0;34m\u001b[0m\u001b[0m\n\u001b[0m\u001b[1;32m     58\u001b[0m     \u001b[0mprint\u001b[0m\u001b[0;34m(\u001b[0m\u001b[0;34m\"Current Value of BankNIFTY: \"\u001b[0m \u001b[0;34m+\u001b[0m \u001b[0mstr\u001b[0m\u001b[0;34m(\u001b[0m\u001b[0mbn_ltp\u001b[0m\u001b[0;34m)\u001b[0m\u001b[0;34m)\u001b[0m\u001b[0;34m\u001b[0m\u001b[0;34m\u001b[0m\u001b[0m\n\u001b[1;32m     59\u001b[0m \u001b[0;34m\u001b[0m\u001b[0m\n",
            "\u001b[0;32m/usr/local/lib/python3.10/dist-packages/nsepythonserver/rahu.py\u001b[0m in \u001b[0;36mnse_quote_ltp\u001b[0;34m(symbol, expiryDate, optionType, strikePrice)\u001b[0m\n\u001b[1;32m    210\u001b[0m \u001b[0;34m\u001b[0m\u001b[0m\n\u001b[1;32m    211\u001b[0m \u001b[0;32mdef\u001b[0m \u001b[0mnse_quote_ltp\u001b[0m\u001b[0;34m(\u001b[0m\u001b[0msymbol\u001b[0m\u001b[0;34m,\u001b[0m\u001b[0mexpiryDate\u001b[0m\u001b[0;34m=\u001b[0m\u001b[0;34m\"latest\"\u001b[0m\u001b[0;34m,\u001b[0m\u001b[0moptionType\u001b[0m\u001b[0;34m=\u001b[0m\u001b[0;34m\"-\"\u001b[0m\u001b[0;34m,\u001b[0m\u001b[0mstrikePrice\u001b[0m\u001b[0;34m=\u001b[0m\u001b[0;36m0\u001b[0m\u001b[0;34m)\u001b[0m\u001b[0;34m:\u001b[0m\u001b[0;34m\u001b[0m\u001b[0;34m\u001b[0m\u001b[0m\n\u001b[0;32m--> 212\u001b[0;31m   \u001b[0mpayload\u001b[0m \u001b[0;34m=\u001b[0m \u001b[0mnse_quote\u001b[0m\u001b[0;34m(\u001b[0m\u001b[0msymbol\u001b[0m\u001b[0;34m)\u001b[0m\u001b[0;34m\u001b[0m\u001b[0;34m\u001b[0m\u001b[0m\n\u001b[0m\u001b[1;32m    213\u001b[0m   \u001b[0;31m#https://stackoverflow.com/questions/7961363/removing-duplicates-in-lists\u001b[0m\u001b[0;34m\u001b[0m\u001b[0;34m\u001b[0m\u001b[0m\n\u001b[1;32m    214\u001b[0m   \u001b[0;31m#https://stackoverflow.com/questions/19199984/sort-a-list-in-python\u001b[0m\u001b[0;34m\u001b[0m\u001b[0;34m\u001b[0m\u001b[0m\n",
            "\u001b[0;32m/usr/local/lib/python3.10/dist-packages/nsepythonserver/rahu.py\u001b[0m in \u001b[0;36mnse_quote\u001b[0;34m(symbol, section)\u001b[0m\n\u001b[1;32m    178\u001b[0m \u001b[0;34m\u001b[0m\u001b[0m\n\u001b[1;32m    179\u001b[0m     \u001b[0;32mif\u001b[0m\u001b[0;34m(\u001b[0m\u001b[0msection\u001b[0m\u001b[0;34m==\u001b[0m\u001b[0;34m\"\"\u001b[0m\u001b[0;34m)\u001b[0m\u001b[0;34m:\u001b[0m\u001b[0;34m\u001b[0m\u001b[0;34m\u001b[0m\u001b[0m\n\u001b[0;32m--> 180\u001b[0;31m         \u001b[0;32mif\u001b[0m \u001b[0many\u001b[0m\u001b[0;34m(\u001b[0m\u001b[0mx\u001b[0m \u001b[0;32min\u001b[0m \u001b[0msymbol\u001b[0m \u001b[0;32mfor\u001b[0m \u001b[0mx\u001b[0m \u001b[0;32min\u001b[0m \u001b[0mfnolist\u001b[0m\u001b[0;34m(\u001b[0m\u001b[0;34m)\u001b[0m\u001b[0;34m)\u001b[0m\u001b[0;34m:\u001b[0m\u001b[0;34m\u001b[0m\u001b[0;34m\u001b[0m\u001b[0m\n\u001b[0m\u001b[1;32m    181\u001b[0m             \u001b[0mpayload\u001b[0m \u001b[0;34m=\u001b[0m \u001b[0mnsefetch\u001b[0m\u001b[0;34m(\u001b[0m\u001b[0;34m'https://www.nseindia.com/api/quote-derivative?symbol='\u001b[0m\u001b[0;34m+\u001b[0m\u001b[0msymbol\u001b[0m\u001b[0;34m)\u001b[0m\u001b[0;34m\u001b[0m\u001b[0;34m\u001b[0m\u001b[0m\n\u001b[1;32m    182\u001b[0m         \u001b[0;32melse\u001b[0m\u001b[0;34m:\u001b[0m\u001b[0;34m\u001b[0m\u001b[0;34m\u001b[0m\u001b[0m\n",
            "\u001b[0;32m/usr/local/lib/python3.10/dist-packages/nsepythonserver/rahu.py\u001b[0m in \u001b[0;36mfnolist\u001b[0;34m()\u001b[0m\n\u001b[1;32m     81\u001b[0m     \u001b[0;31m# return [x.strip(' ') for x in df.drop(df.index[3]).iloc[:,1].to_list()]\u001b[0m\u001b[0;34m\u001b[0m\u001b[0;34m\u001b[0m\u001b[0m\n\u001b[1;32m     82\u001b[0m \u001b[0;34m\u001b[0m\u001b[0m\n\u001b[0;32m---> 83\u001b[0;31m     \u001b[0mpositions\u001b[0m \u001b[0;34m=\u001b[0m \u001b[0mnsefetch\u001b[0m\u001b[0;34m(\u001b[0m\u001b[0;34m'https://www.nseindia.com/api/equity-stockIndices?index=SECURITIES%20IN%20F%26O'\u001b[0m\u001b[0;34m)\u001b[0m\u001b[0;34m\u001b[0m\u001b[0;34m\u001b[0m\u001b[0m\n\u001b[0m\u001b[1;32m     84\u001b[0m \u001b[0;34m\u001b[0m\u001b[0m\n\u001b[1;32m     85\u001b[0m     \u001b[0mnselist\u001b[0m\u001b[0;34m=\u001b[0m\u001b[0;34m[\u001b[0m\u001b[0;34m'NIFTY'\u001b[0m\u001b[0;34m,\u001b[0m\u001b[0;34m'NIFTYIT'\u001b[0m\u001b[0;34m,\u001b[0m\u001b[0;34m'BANKNIFTY'\u001b[0m\u001b[0;34m]\u001b[0m\u001b[0;34m\u001b[0m\u001b[0;34m\u001b[0m\u001b[0m\n",
            "\u001b[0;32m/usr/local/lib/python3.10/dist-packages/nsepythonserver/rahu.py\u001b[0m in \u001b[0;36mnsefetch\u001b[0;34m(payload)\u001b[0m\n\u001b[1;32m     22\u001b[0m         \u001b[0mpayload_var\u001b[0m \u001b[0;34m=\u001b[0m \u001b[0;34m'curl -b cookies.txt \"'\u001b[0m \u001b[0;34m+\u001b[0m \u001b[0mencoded_url\u001b[0m \u001b[0;34m+\u001b[0m \u001b[0;34m'\"'\u001b[0m \u001b[0;34m+\u001b[0m \u001b[0mcurl_headers\u001b[0m \u001b[0;34m+\u001b[0m \u001b[0;34m''\u001b[0m\u001b[0;34m\u001b[0m\u001b[0;34m\u001b[0m\u001b[0m\n\u001b[1;32m     23\u001b[0m         \u001b[0;32mtry\u001b[0m\u001b[0;34m:\u001b[0m\u001b[0;34m\u001b[0m\u001b[0;34m\u001b[0m\u001b[0m\n\u001b[0;32m---> 24\u001b[0;31m             \u001b[0moutput\u001b[0m \u001b[0;34m=\u001b[0m \u001b[0mos\u001b[0m\u001b[0;34m.\u001b[0m\u001b[0mpopen\u001b[0m\u001b[0;34m(\u001b[0m\u001b[0mpayload_var\u001b[0m\u001b[0;34m)\u001b[0m\u001b[0;34m.\u001b[0m\u001b[0mread\u001b[0m\u001b[0;34m(\u001b[0m\u001b[0;34m)\u001b[0m\u001b[0;34m\u001b[0m\u001b[0;34m\u001b[0m\u001b[0m\n\u001b[0m\u001b[1;32m     25\u001b[0m             \u001b[0moutput\u001b[0m\u001b[0;34m=\u001b[0m\u001b[0mjson\u001b[0m\u001b[0;34m.\u001b[0m\u001b[0mloads\u001b[0m\u001b[0;34m(\u001b[0m\u001b[0moutput\u001b[0m\u001b[0;34m)\u001b[0m\u001b[0;34m\u001b[0m\u001b[0;34m\u001b[0m\u001b[0m\n\u001b[1;32m     26\u001b[0m         \u001b[0;32mexcept\u001b[0m \u001b[0mValueError\u001b[0m\u001b[0;34m:\u001b[0m  \u001b[0;31m# includes simplejson.decoder.JSONDecodeError:\u001b[0m\u001b[0;34m\u001b[0m\u001b[0;34m\u001b[0m\u001b[0m\n",
            "\u001b[0;32m/usr/lib/python3.10/codecs.py\u001b[0m in \u001b[0;36mdecode\u001b[0;34m(self, input, final)\u001b[0m\n\u001b[1;32m    317\u001b[0m         \u001b[0;32mraise\u001b[0m \u001b[0mNotImplementedError\u001b[0m\u001b[0;34m\u001b[0m\u001b[0;34m\u001b[0m\u001b[0m\n\u001b[1;32m    318\u001b[0m \u001b[0;34m\u001b[0m\u001b[0m\n\u001b[0;32m--> 319\u001b[0;31m     \u001b[0;32mdef\u001b[0m \u001b[0mdecode\u001b[0m\u001b[0;34m(\u001b[0m\u001b[0mself\u001b[0m\u001b[0;34m,\u001b[0m \u001b[0minput\u001b[0m\u001b[0;34m,\u001b[0m \u001b[0mfinal\u001b[0m\u001b[0;34m=\u001b[0m\u001b[0;32mFalse\u001b[0m\u001b[0;34m)\u001b[0m\u001b[0;34m:\u001b[0m\u001b[0;34m\u001b[0m\u001b[0;34m\u001b[0m\u001b[0m\n\u001b[0m\u001b[1;32m    320\u001b[0m         \u001b[0;31m# decode input (taking the buffer into account)\u001b[0m\u001b[0;34m\u001b[0m\u001b[0;34m\u001b[0m\u001b[0m\n\u001b[1;32m    321\u001b[0m         \u001b[0mdata\u001b[0m \u001b[0;34m=\u001b[0m \u001b[0mself\u001b[0m\u001b[0;34m.\u001b[0m\u001b[0mbuffer\u001b[0m \u001b[0;34m+\u001b[0m \u001b[0minput\u001b[0m\u001b[0;34m\u001b[0m\u001b[0;34m\u001b[0m\u001b[0m\n",
            "\u001b[0;31mKeyboardInterrupt\u001b[0m: "
          ]
        }
      ]
    },
    {
      "cell_type": "code",
      "source": [],
      "metadata": {
        "id": "tI_iO48Xj41V"
      },
      "execution_count": null,
      "outputs": []
    }
  ]
}